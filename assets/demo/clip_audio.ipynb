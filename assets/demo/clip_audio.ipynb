{
 "cells": [
  {
   "cell_type": "code",
   "execution_count": 25,
   "metadata": {},
   "outputs": [],
   "source": [
    "import torchaudio \n",
    "from IPython.display import Audio"
   ]
  },
  {
   "cell_type": "code",
   "execution_count": 26,
   "metadata": {},
   "outputs": [],
   "source": [
    "OUTPUT_DIR = \"/home/bltang/work/publication/demo_site/TSELM.demo/assets/demo/2\"\n",
    "AUDIO = \"5694-64038-0019_251-118436-0010.wav\"\n",
    "SR = 16000\n",
    "START = 0 \n",
    "END = None"
   ]
  },
  {
   "cell_type": "code",
   "execution_count": 27,
   "metadata": {},
   "outputs": [],
   "source": [
    "def save_audio(name, audio, start, end):\n",
    "    if end == None:\n",
    "        audio = audio[:, int(SR * start) : ]\n",
    "    else:\n",
    "        audio = audio[:, int(SR * start): int(SR * end)]\n",
    "    torchaudio.save(f\"{OUTPUT_DIR}/{name}\", audio, 16000)"
   ]
  },
  {
   "cell_type": "code",
   "execution_count": 28,
   "metadata": {},
   "outputs": [],
   "source": [
    "## Mixture\n",
    "audio_name = \"mixture.wav\"\n",
    "audio, rate = torchaudio.load(f\"/home/bltang/work/publication/data/libri2mix_dev/mix_clean/{AUDIO}\")\n",
    "save_audio(audio_name, audio, START, END)"
   ]
  },
  {
   "cell_type": "code",
   "execution_count": 29,
   "metadata": {},
   "outputs": [],
   "source": [
    "## Target\n",
    "audio_name = \"target.wav\"\n",
    "audio, rate = torchaudio.load(f\"/home/bltang/work/publication/data/libri2mix_dev/s1/{AUDIO}\")\n",
    "save_audio(audio_name, audio,START, END)"
   ]
  },
  {
   "cell_type": "code",
   "execution_count": 30,
   "metadata": {},
   "outputs": [],
   "source": [
    "## Reference Audio\n",
    "audio_name=\"reference.wav\"\n",
    "audio, rate = torchaudio.load(f\"/home/bltang/work/publication/data/libri2mix_dev/aux_s1/{AUDIO}\")\n",
    "save_audio(audio_name, audio, START, END)"
   ]
  },
  {
   "cell_type": "code",
   "execution_count": 31,
   "metadata": {},
   "outputs": [],
   "source": [
    "## SPEX_PLUS\n",
    "audio_name = \"spex_plus.wav\"\n",
    "audio, rate = torchaudio.load(f\"/home/bltang/work/publication/data/spex/audio_new/{AUDIO}\")\n",
    "save_audio(audio_name, audio, START, END)"
   ]
  },
  {
   "cell_type": "code",
   "execution_count": 32,
   "metadata": {},
   "outputs": [],
   "source": [
    "## TSELM_L\n",
    "audio_name = \"tselm_l.wav\"\n",
    "audio, rate = torchaudio.load(f\"/home/bltang/work/publication/data/tselm_l/audio/{AUDIO}\")\n",
    "save_audio(audio_name, audio, START, END)"
   ]
  },
  {
   "cell_type": "code",
   "execution_count": 33,
   "metadata": {},
   "outputs": [],
   "source": [
    "## TSELM-L-Hybrid\n",
    "audio_name=\"tselm_l_hybrid.wav\"\n",
    "audio, rate = torchaudio.load(f\"/home/bltang/work/publication/data/tselm_l_hybrid/audio/{AUDIO}\")\n",
    "save_audio(audio_name, audio, START, END)"
   ]
  },
  {
   "cell_type": "code",
   "execution_count": 34,
   "metadata": {},
   "outputs": [],
   "source": [
    "## Continuous-WavLM-L6\n",
    "audio_name=\"continuous_wavlm_l6.wav\"\n",
    "audio, rate = torchaudio.load(f\"/home/bltang/work/publication/data/continuous_wavlm_l6/output/{AUDIO}\")\n",
    "save_audio(audio_name, audio, START, END)"
   ]
  }
 ],
 "metadata": {
  "kernelspec": {
   "display_name": "Python 3",
   "language": "python",
   "name": "python3"
  },
  "language_info": {
   "codemirror_mode": {
    "name": "ipython",
    "version": 3
   },
   "file_extension": ".py",
   "mimetype": "text/x-python",
   "name": "python",
   "nbconvert_exporter": "python",
   "pygments_lexer": "ipython3",
   "version": "3.8.10"
  }
 },
 "nbformat": 4,
 "nbformat_minor": 2
}
