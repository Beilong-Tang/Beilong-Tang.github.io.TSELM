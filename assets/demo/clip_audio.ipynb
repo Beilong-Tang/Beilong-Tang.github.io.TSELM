{
 "cells": [
  {
   "cell_type": "code",
   "execution_count": 5,
   "metadata": {},
   "outputs": [],
   "source": [
    "import torchaudio \n",
    "from IPython.display import Audio"
   ]
  },
  {
   "cell_type": "code",
   "execution_count": 59,
   "metadata": {},
   "outputs": [],
   "source": [
    "OUTPUT_DIR = \"/home/bltang/work/publication/demo_site/TSELM.demo/demo/1\"\n",
    "AUDIO = \"1462-170138-0011_652-130726-0021.wav\"\n",
    "SR = 16000\n",
    "START = 0 \n",
    "END = 4.5"
   ]
  },
  {
   "cell_type": "code",
   "execution_count": 60,
   "metadata": {},
   "outputs": [],
   "source": [
    "def save_audio(name, audio, start, end):\n",
    "    audio = audio[:, int(SR * start): int(SR * end)]\n",
    "    Audio(audio, rate = SR)\n",
    "    torchaudio.save(f\"{OUTPUT_DIR}/{name}\", audio, 16000)"
   ]
  },
  {
   "cell_type": "code",
   "execution_count": 61,
   "metadata": {},
   "outputs": [],
   "source": [
    "## Mixture\n",
    "audio_name = \"mixture.wav\"\n",
    "audio, rate = torchaudio.load(f\"/home/bltang/work/publication/data/libri2mix_dev/mix_clean/{AUDIO}\")\n",
    "save_audio(audio_name, audio, START, END)"
   ]
  },
  {
   "cell_type": "code",
   "execution_count": 62,
   "metadata": {},
   "outputs": [],
   "source": [
    "## Target\n",
    "audio_name = \"target.wav\"\n",
    "audio, rate = torchaudio.load(f\"/home/bltang/work/publication/data/libri2mix_dev/s1/{AUDIO}\")\n",
    "save_audio(audio_name, audio,START, END)"
   ]
  },
  {
   "cell_type": "code",
   "execution_count": 63,
   "metadata": {},
   "outputs": [],
   "source": [
    "## Reference Audio\n",
    "audio_name=\"reference.wav\"\n",
    "audio, rate = torchaudio.load(f\"/home/bltang/work/publication/data/libri2mix_dev/aux_s1/1462-170138-0000_652-130726-0018.wav\")\n",
    "save_audio(audio_name, audio, START, END)"
   ]
  },
  {
   "cell_type": "code",
   "execution_count": 64,
   "metadata": {},
   "outputs": [],
   "source": [
    "## SPEX_PLUS\n",
    "audio_name = \"spex_plus.wav\"\n",
    "audio, rate = torchaudio.load(f\"/home/bltang/Downloads/1462-170138-0011_652-130726-0021 (1).wav\")\n",
    "save_audio(audio_name, audio, START, END)"
   ]
  },
  {
   "cell_type": "code",
   "execution_count": 70,
   "metadata": {},
   "outputs": [],
   "source": [
    "## TSELM_L\n",
    "audio_name = \"tselm_l.wav\"\n",
    "audio, rate = torchaudio.load(f\"/home/bltang/Downloads/1462-170138-0011_652-130726-0021.wav\")\n",
    "save_audio(audio_name, audio, START, END)"
   ]
  },
  {
   "cell_type": "code",
   "execution_count": 66,
   "metadata": {},
   "outputs": [],
   "source": [
    "## TSELM-L-Hybrid\n",
    "audio_name=\"tselm_l_hybrid.wav\"\n",
    "audio, rate = torchaudio.load(f\"/home/bltang/work/publication/data/tselm_l_hybrid/audio/1462-170138-0011_652-130726-0021.wav\")\n",
    "save_audio(audio_name, audio, START, END)"
   ]
  },
  {
   "cell_type": "code",
   "execution_count": 68,
   "metadata": {},
   "outputs": [],
   "source": [
    "## Continuous-WavLM-L6\n",
    "audio_name=\"continuous_wavlm_l6.wav\"\n",
    "audio, rate = torchaudio.load(f\"/home/bltang/work/publication/data/continuous_wavlm_l6/output/1462-170138-0011_652-130726-0021.wav\")\n",
    "save_audio(audio_name, audio, START, END)"
   ]
  }
 ],
 "metadata": {
  "kernelspec": {
   "display_name": "Python 3",
   "language": "python",
   "name": "python3"
  },
  "language_info": {
   "codemirror_mode": {
    "name": "ipython",
    "version": 3
   },
   "file_extension": ".py",
   "mimetype": "text/x-python",
   "name": "python",
   "nbconvert_exporter": "python",
   "pygments_lexer": "ipython3",
   "version": "3.8.10"
  }
 },
 "nbformat": 4,
 "nbformat_minor": 2
}
