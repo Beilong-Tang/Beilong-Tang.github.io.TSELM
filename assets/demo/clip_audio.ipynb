{
 "cells": [
  {
   "cell_type": "code",
   "execution_count": 1,
   "metadata": {},
   "outputs": [],
   "source": [
    "import torchaudio \n",
    "import os\n",
    "from IPython.display import Audio"
   ]
  },
  {
   "cell_type": "code",
   "execution_count": 4,
   "metadata": {},
   "outputs": [],
   "source": [
    "OUTPUT_DIR = \"/home/bltang/work/publication/demo_site/TSELM.demo/assets/demo/libri2mix-audio-table/1\"\n",
    "os.makedirs(OUTPUT_DIR, exist_ok=True)\n",
    "AUDIO = \"61-70968-0019_2830-3980-0031.wav\"\n",
    "SR = 16000\n",
    "START = 0 \n",
    "END = None"
   ]
  },
  {
   "cell_type": "code",
   "execution_count": 5,
   "metadata": {},
   "outputs": [],
   "source": [
    "def save_audio(name, audio, start, end):\n",
    "    if end == None:\n",
    "        audio = audio[:, int(SR * start) : ]\n",
    "    else:\n",
    "        audio = audio[:, int(SR * start): int(SR * end)]\n",
    "    torchaudio.save(f\"{OUTPUT_DIR}/{name}\", audio, 16000)"
   ]
  },
  {
   "cell_type": "code",
   "execution_count": 4,
   "metadata": {},
   "outputs": [
    {
     "ename": "RuntimeError",
     "evalue": "Failed to open the input \"/home/bltang/work/publication/data/libri2mix_dev/mix_clean/050a050i_1.7445_447c0213_-1.7445_050a050k.wav\" (No such file or directory).\nException raised from get_input_format_context at /__w/audio/audio/pytorch/audio/src/libtorio/ffmpeg/stream_reader/stream_reader.cpp:42 (most recent call first):\nframe #0: c10::Error::Error(c10::SourceLocation, std::string) + 0x57 (0x7f21ce249897 in /home/bltang/.local/lib/python3.8/site-packages/torch/lib/libc10.so)\nframe #1: c10::detail::torchCheckFail(char const*, char const*, unsigned int, std::string const&) + 0x64 (0x7f21ce1f9b25 in /home/bltang/.local/lib/python3.8/site-packages/torch/lib/libc10.so)\nframe #2: <unknown function> + 0x42334 (0x7f21cc7c2334 in /home/bltang/.local/lib/python3.8/site-packages/torio/lib/libtorio_ffmpeg4.so)\nframe #3: torio::io::StreamingMediaDecoder::StreamingMediaDecoder(std::string const&, std::optional<std::string> const&, std::optional<std::map<std::string, std::string, std::less<std::string>, std::allocator<std::pair<std::string const, std::string> > > > const&) + 0x14 (0x7f21cc7c4d34 in /home/bltang/.local/lib/python3.8/site-packages/torio/lib/libtorio_ffmpeg4.so)\nframe #4: <unknown function> + 0x3aace (0x7f20efa95ace in /home/bltang/.local/lib/python3.8/site-packages/torio/lib/_torio_ffmpeg4.so)\nframe #5: <unknown function> + 0x32545 (0x7f20efa8d545 in /home/bltang/.local/lib/python3.8/site-packages/torio/lib/_torio_ffmpeg4.so)\nframe #6: PyCFunction_Call + 0x59 (0x5f58f9 in /usr/bin/python3)\nframe #7: _PyObject_MakeTpCall + 0x29e (0x5f64ce in /usr/bin/python3)\nframe #8: /usr/bin/python3() [0x50b488]\nframe #9: PyObject_Call + 0x62 (0x5f5072 in /usr/bin/python3)\nframe #10: /usr/bin/python3() [0x59c422]\nframe #11: /usr/bin/python3() [0x5a6ca7]\nframe #12: <unknown function> + 0xf66b (0x7f20f940866b in /home/bltang/.local/lib/python3.8/site-packages/torchaudio/lib/_torchaudio.so)\nframe #13: _PyObject_MakeTpCall + 0x29e (0x5f64ce in /usr/bin/python3)\nframe #14: _PyEval_EvalFrameDefault + 0x5e13 (0x571203 in /usr/bin/python3)\nframe #15: _PyEval_EvalCodeWithName + 0x26a (0x569dfa in /usr/bin/python3)\nframe #16: _PyFunction_Vectorcall + 0x393 (0x5f5e83 in /usr/bin/python3)\nframe #17: /usr/bin/python3() [0x59c27e]\nframe #18: _PyObject_MakeTpCall + 0x1ff (0x5f642f in /usr/bin/python3)\nframe #19: _PyEval_EvalFrameDefault + 0x5e13 (0x571203 in /usr/bin/python3)\nframe #20: _PyEval_EvalCodeWithName + 0x26a (0x569dfa in /usr/bin/python3)\nframe #21: _PyFunction_Vectorcall + 0x393 (0x5f5e83 in /usr/bin/python3)\nframe #22: _PyEval_EvalFrameDefault + 0x725 (0x56bb15 in /usr/bin/python3)\nframe #23: _PyEval_EvalCodeWithName + 0x26a (0x569dfa in /usr/bin/python3)\nframe #24: _PyFunction_Vectorcall + 0x393 (0x5f5e83 in /usr/bin/python3)\nframe #25: _PyEval_EvalFrameDefault + 0x5777 (0x570b67 in /usr/bin/python3)\nframe #26: _PyEval_EvalCodeWithName + 0x26a (0x569dfa in /usr/bin/python3)\nframe #27: _PyFunction_Vectorcall + 0x393 (0x5f5e83 in /usr/bin/python3)\nframe #28: _PyEval_EvalFrameDefault + 0x5777 (0x570b67 in /usr/bin/python3)\nframe #29: _PyEval_EvalCodeWithName + 0x26a (0x569dfa in /usr/bin/python3)\nframe #30: PyEval_EvalCode + 0x27 (0x68ce77 in /usr/bin/python3)\nframe #31: /usr/bin/python3() [0x6005e4]\nframe #32: /usr/bin/python3() [0x5c4780]\nframe #33: _PyEval_EvalFrameDefault + 0x725 (0x56bb15 in /usr/bin/python3)\nframe #34: /usr/bin/python3() [0x5006a8]\nframe #35: _PyEval_EvalFrameDefault + 0x212f (0x56d51f in /usr/bin/python3)\nframe #36: /usr/bin/python3() [0x5006a8]\nframe #37: _PyEval_EvalFrameDefault + 0x212f (0x56d51f in /usr/bin/python3)\nframe #38: /usr/bin/python3() [0x5006a8]\nframe #39: /usr/bin/python3() [0x5042c6]\nframe #40: _PyEval_EvalFrameDefault + 0x907 (0x56bcf7 in /usr/bin/python3)\nframe #41: _PyFunction_Vectorcall + 0x1b6 (0x5f5ca6 in /usr/bin/python3)\nframe #42: _PyEval_EvalFrameDefault + 0x725 (0x56bb15 in /usr/bin/python3)\nframe #43: _PyFunction_Vectorcall + 0x1b6 (0x5f5ca6 in /usr/bin/python3)\nframe #44: _PyEval_EvalFrameDefault + 0x907 (0x56bcf7 in /usr/bin/python3)\nframe #45: _PyEval_EvalCodeWithName + 0x26a (0x569dfa in /usr/bin/python3)\nframe #46: _PyFunction_Vectorcall + 0x393 (0x5f5e83 in /usr/bin/python3)\nframe #47: /usr/bin/python3() [0x50ad5c]\nframe #48: PyObject_Call + 0x62 (0x5f5072 in /usr/bin/python3)\nframe #49: _PyEval_EvalFrameDefault + 0x1f2d (0x56d31d in /usr/bin/python3)\nframe #50: _PyEval_EvalCodeWithName + 0x26a (0x569dfa in /usr/bin/python3)\nframe #51: /usr/bin/python3() [0x50add0]\nframe #52: _PyEval_EvalFrameDefault + 0x1905 (0x56ccf5 in /usr/bin/python3)\nframe #53: /usr/bin/python3() [0x5006a8]\nframe #54: _PyEval_EvalFrameDefault + 0x212f (0x56d51f in /usr/bin/python3)\nframe #55: /usr/bin/python3() [0x5006a8]\nframe #56: _PyEval_EvalFrameDefault + 0x212f (0x56d51f in /usr/bin/python3)\nframe #57: /usr/bin/python3() [0x5006a8]\nframe #58: _PyEval_EvalFrameDefault + 0x212f (0x56d51f in /usr/bin/python3)\nframe #59: /usr/bin/python3() [0x5006a8]\nframe #60: _PyEval_EvalFrameDefault + 0x212f (0x56d51f in /usr/bin/python3)\nframe #61: /usr/bin/python3() [0x5006a8]\nframe #62: _PyEval_EvalFrameDefault + 0x212f (0x56d51f in /usr/bin/python3)\nframe #63: /usr/bin/python3() [0x5006a8]\n",
     "output_type": "error",
     "traceback": [
      "\u001b[0;31m---------------------------------------------------------------------------\u001b[0m",
      "\u001b[0;31mRuntimeError\u001b[0m                              Traceback (most recent call last)",
      "Cell \u001b[0;32mIn[4], line 3\u001b[0m\n\u001b[1;32m      1\u001b[0m \u001b[38;5;66;03m## Mixture\u001b[39;00m\n\u001b[1;32m      2\u001b[0m audio_name \u001b[38;5;241m=\u001b[39m \u001b[38;5;124m\"\u001b[39m\u001b[38;5;124mmixture.wav\u001b[39m\u001b[38;5;124m\"\u001b[39m\n\u001b[0;32m----> 3\u001b[0m audio, rate \u001b[38;5;241m=\u001b[39m \u001b[43mtorchaudio\u001b[49m\u001b[38;5;241;43m.\u001b[39;49m\u001b[43mload\u001b[49m\u001b[43m(\u001b[49m\u001b[38;5;124;43mf\u001b[39;49m\u001b[38;5;124;43m\"\u001b[39;49m\u001b[38;5;124;43m/home/bltang/work/publication/data/libri2mix_dev/mix_clean/\u001b[39;49m\u001b[38;5;132;43;01m{\u001b[39;49;00m\u001b[43mAUDIO\u001b[49m\u001b[38;5;132;43;01m}\u001b[39;49;00m\u001b[38;5;124;43m\"\u001b[39;49m\u001b[43m)\u001b[49m\n\u001b[1;32m      4\u001b[0m save_audio(audio_name, audio, START, END)\n\u001b[1;32m      5\u001b[0m \u001b[38;5;66;03m## Target\u001b[39;00m\n",
      "File \u001b[0;32m~/.local/lib/python3.8/site-packages/torchaudio/_backend/utils.py:205\u001b[0m, in \u001b[0;36mget_load_func.<locals>.load\u001b[0;34m(uri, frame_offset, num_frames, normalize, channels_first, format, buffer_size, backend)\u001b[0m\n\u001b[1;32m    128\u001b[0m \u001b[38;5;250m\u001b[39m\u001b[38;5;124;03m\"\"\"Load audio data from source.\u001b[39;00m\n\u001b[1;32m    129\u001b[0m \n\u001b[1;32m    130\u001b[0m \u001b[38;5;124;03mBy default (``normalize=True``, ``channels_first=True``), this function returns Tensor with\u001b[39;00m\n\u001b[0;32m   (...)\u001b[0m\n\u001b[1;32m    202\u001b[0m \u001b[38;5;124;03m        `[channel, time]` else `[time, channel]`.\u001b[39;00m\n\u001b[1;32m    203\u001b[0m \u001b[38;5;124;03m\"\"\"\u001b[39;00m\n\u001b[1;32m    204\u001b[0m backend \u001b[38;5;241m=\u001b[39m dispatcher(uri, \u001b[38;5;28mformat\u001b[39m, backend)\n\u001b[0;32m--> 205\u001b[0m \u001b[38;5;28;01mreturn\u001b[39;00m \u001b[43mbackend\u001b[49m\u001b[38;5;241;43m.\u001b[39;49m\u001b[43mload\u001b[49m\u001b[43m(\u001b[49m\u001b[43muri\u001b[49m\u001b[43m,\u001b[49m\u001b[43m \u001b[49m\u001b[43mframe_offset\u001b[49m\u001b[43m,\u001b[49m\u001b[43m \u001b[49m\u001b[43mnum_frames\u001b[49m\u001b[43m,\u001b[49m\u001b[43m \u001b[49m\u001b[43mnormalize\u001b[49m\u001b[43m,\u001b[49m\u001b[43m \u001b[49m\u001b[43mchannels_first\u001b[49m\u001b[43m,\u001b[49m\u001b[43m \u001b[49m\u001b[38;5;28;43mformat\u001b[39;49m\u001b[43m,\u001b[49m\u001b[43m \u001b[49m\u001b[43mbuffer_size\u001b[49m\u001b[43m)\u001b[49m\n",
      "File \u001b[0;32m~/.local/lib/python3.8/site-packages/torchaudio/_backend/ffmpeg.py:297\u001b[0m, in \u001b[0;36mFFmpegBackend.load\u001b[0;34m(uri, frame_offset, num_frames, normalize, channels_first, format, buffer_size)\u001b[0m\n\u001b[1;32m    287\u001b[0m \u001b[38;5;129m@staticmethod\u001b[39m\n\u001b[1;32m    288\u001b[0m \u001b[38;5;28;01mdef\u001b[39;00m \u001b[38;5;21mload\u001b[39m(\n\u001b[1;32m    289\u001b[0m     uri: InputType,\n\u001b[0;32m   (...)\u001b[0m\n\u001b[1;32m    295\u001b[0m     buffer_size: \u001b[38;5;28mint\u001b[39m \u001b[38;5;241m=\u001b[39m \u001b[38;5;241m4096\u001b[39m,\n\u001b[1;32m    296\u001b[0m ) \u001b[38;5;241m-\u001b[39m\u001b[38;5;241m>\u001b[39m Tuple[torch\u001b[38;5;241m.\u001b[39mTensor, \u001b[38;5;28mint\u001b[39m]:\n\u001b[0;32m--> 297\u001b[0m     \u001b[38;5;28;01mreturn\u001b[39;00m \u001b[43mload_audio\u001b[49m\u001b[43m(\u001b[49m\u001b[43muri\u001b[49m\u001b[43m,\u001b[49m\u001b[43m \u001b[49m\u001b[43mframe_offset\u001b[49m\u001b[43m,\u001b[49m\u001b[43m \u001b[49m\u001b[43mnum_frames\u001b[49m\u001b[43m,\u001b[49m\u001b[43m \u001b[49m\u001b[43mnormalize\u001b[49m\u001b[43m,\u001b[49m\u001b[43m \u001b[49m\u001b[43mchannels_first\u001b[49m\u001b[43m,\u001b[49m\u001b[43m \u001b[49m\u001b[38;5;28;43mformat\u001b[39;49m\u001b[43m)\u001b[49m\n",
      "File \u001b[0;32m~/.local/lib/python3.8/site-packages/torchaudio/_backend/ffmpeg.py:88\u001b[0m, in \u001b[0;36mload_audio\u001b[0;34m(src, frame_offset, num_frames, convert, channels_first, format, buffer_size)\u001b[0m\n\u001b[1;32m     86\u001b[0m \u001b[38;5;28;01mif\u001b[39;00m \u001b[38;5;28mhasattr\u001b[39m(src, \u001b[38;5;124m\"\u001b[39m\u001b[38;5;124mread\u001b[39m\u001b[38;5;124m\"\u001b[39m) \u001b[38;5;129;01mand\u001b[39;00m \u001b[38;5;28mformat\u001b[39m \u001b[38;5;241m==\u001b[39m \u001b[38;5;124m\"\u001b[39m\u001b[38;5;124mvorbis\u001b[39m\u001b[38;5;124m\"\u001b[39m:\n\u001b[1;32m     87\u001b[0m     \u001b[38;5;28mformat\u001b[39m \u001b[38;5;241m=\u001b[39m \u001b[38;5;124m\"\u001b[39m\u001b[38;5;124mogg\u001b[39m\u001b[38;5;124m\"\u001b[39m\n\u001b[0;32m---> 88\u001b[0m s \u001b[38;5;241m=\u001b[39m \u001b[43mtorchaudio\u001b[49m\u001b[38;5;241;43m.\u001b[39;49m\u001b[43mio\u001b[49m\u001b[38;5;241;43m.\u001b[39;49m\u001b[43mStreamReader\u001b[49m\u001b[43m(\u001b[49m\u001b[43msrc\u001b[49m\u001b[43m,\u001b[49m\u001b[43m \u001b[49m\u001b[38;5;28;43mformat\u001b[39;49m\u001b[43m,\u001b[49m\u001b[43m \u001b[49m\u001b[38;5;28;43;01mNone\u001b[39;49;00m\u001b[43m,\u001b[49m\u001b[43m \u001b[49m\u001b[43mbuffer_size\u001b[49m\u001b[43m)\u001b[49m\n\u001b[1;32m     89\u001b[0m sample_rate \u001b[38;5;241m=\u001b[39m \u001b[38;5;28mint\u001b[39m(s\u001b[38;5;241m.\u001b[39mget_src_stream_info(s\u001b[38;5;241m.\u001b[39mdefault_audio_stream)\u001b[38;5;241m.\u001b[39msample_rate)\n\u001b[1;32m     90\u001b[0m \u001b[38;5;28mfilter\u001b[39m \u001b[38;5;241m=\u001b[39m _get_load_filter(frame_offset, num_frames, convert)\n",
      "File \u001b[0;32m~/.local/lib/python3.8/site-packages/torio/io/_streaming_media_decoder.py:526\u001b[0m, in \u001b[0;36mStreamingMediaDecoder.__init__\u001b[0;34m(self, src, format, option, buffer_size)\u001b[0m\n\u001b[1;32m    524\u001b[0m     \u001b[38;5;28mself\u001b[39m\u001b[38;5;241m.\u001b[39m_be \u001b[38;5;241m=\u001b[39m ffmpeg_ext\u001b[38;5;241m.\u001b[39mStreamingMediaDecoderFileObj(src, \u001b[38;5;28mformat\u001b[39m, option, buffer_size)\n\u001b[1;32m    525\u001b[0m \u001b[38;5;28;01melse\u001b[39;00m:\n\u001b[0;32m--> 526\u001b[0m     \u001b[38;5;28mself\u001b[39m\u001b[38;5;241m.\u001b[39m_be \u001b[38;5;241m=\u001b[39m \u001b[43mffmpeg_ext\u001b[49m\u001b[38;5;241;43m.\u001b[39;49m\u001b[43mStreamingMediaDecoder\u001b[49m\u001b[43m(\u001b[49m\u001b[43mos\u001b[49m\u001b[38;5;241;43m.\u001b[39;49m\u001b[43mpath\u001b[49m\u001b[38;5;241;43m.\u001b[39;49m\u001b[43mnormpath\u001b[49m\u001b[43m(\u001b[49m\u001b[43msrc\u001b[49m\u001b[43m)\u001b[49m\u001b[43m,\u001b[49m\u001b[43m \u001b[49m\u001b[38;5;28;43mformat\u001b[39;49m\u001b[43m,\u001b[49m\u001b[43m \u001b[49m\u001b[43moption\u001b[49m\u001b[43m)\u001b[49m\n\u001b[1;32m    528\u001b[0m i \u001b[38;5;241m=\u001b[39m \u001b[38;5;28mself\u001b[39m\u001b[38;5;241m.\u001b[39m_be\u001b[38;5;241m.\u001b[39mfind_best_audio_stream()\n\u001b[1;32m    529\u001b[0m \u001b[38;5;28mself\u001b[39m\u001b[38;5;241m.\u001b[39m_default_audio_stream \u001b[38;5;241m=\u001b[39m \u001b[38;5;28;01mNone\u001b[39;00m \u001b[38;5;28;01mif\u001b[39;00m i \u001b[38;5;241m<\u001b[39m \u001b[38;5;241m0\u001b[39m \u001b[38;5;28;01melse\u001b[39;00m i\n",
      "\u001b[0;31mRuntimeError\u001b[0m: Failed to open the input \"/home/bltang/work/publication/data/libri2mix_dev/mix_clean/050a050i_1.7445_447c0213_-1.7445_050a050k.wav\" (No such file or directory).\nException raised from get_input_format_context at /__w/audio/audio/pytorch/audio/src/libtorio/ffmpeg/stream_reader/stream_reader.cpp:42 (most recent call first):\nframe #0: c10::Error::Error(c10::SourceLocation, std::string) + 0x57 (0x7f21ce249897 in /home/bltang/.local/lib/python3.8/site-packages/torch/lib/libc10.so)\nframe #1: c10::detail::torchCheckFail(char const*, char const*, unsigned int, std::string const&) + 0x64 (0x7f21ce1f9b25 in /home/bltang/.local/lib/python3.8/site-packages/torch/lib/libc10.so)\nframe #2: <unknown function> + 0x42334 (0x7f21cc7c2334 in /home/bltang/.local/lib/python3.8/site-packages/torio/lib/libtorio_ffmpeg4.so)\nframe #3: torio::io::StreamingMediaDecoder::StreamingMediaDecoder(std::string const&, std::optional<std::string> const&, std::optional<std::map<std::string, std::string, std::less<std::string>, std::allocator<std::pair<std::string const, std::string> > > > const&) + 0x14 (0x7f21cc7c4d34 in /home/bltang/.local/lib/python3.8/site-packages/torio/lib/libtorio_ffmpeg4.so)\nframe #4: <unknown function> + 0x3aace (0x7f20efa95ace in /home/bltang/.local/lib/python3.8/site-packages/torio/lib/_torio_ffmpeg4.so)\nframe #5: <unknown function> + 0x32545 (0x7f20efa8d545 in /home/bltang/.local/lib/python3.8/site-packages/torio/lib/_torio_ffmpeg4.so)\nframe #6: PyCFunction_Call + 0x59 (0x5f58f9 in /usr/bin/python3)\nframe #7: _PyObject_MakeTpCall + 0x29e (0x5f64ce in /usr/bin/python3)\nframe #8: /usr/bin/python3() [0x50b488]\nframe #9: PyObject_Call + 0x62 (0x5f5072 in /usr/bin/python3)\nframe #10: /usr/bin/python3() [0x59c422]\nframe #11: /usr/bin/python3() [0x5a6ca7]\nframe #12: <unknown function> + 0xf66b (0x7f20f940866b in /home/bltang/.local/lib/python3.8/site-packages/torchaudio/lib/_torchaudio.so)\nframe #13: _PyObject_MakeTpCall + 0x29e (0x5f64ce in /usr/bin/python3)\nframe #14: _PyEval_EvalFrameDefault + 0x5e13 (0x571203 in /usr/bin/python3)\nframe #15: _PyEval_EvalCodeWithName + 0x26a (0x569dfa in /usr/bin/python3)\nframe #16: _PyFunction_Vectorcall + 0x393 (0x5f5e83 in /usr/bin/python3)\nframe #17: /usr/bin/python3() [0x59c27e]\nframe #18: _PyObject_MakeTpCall + 0x1ff (0x5f642f in /usr/bin/python3)\nframe #19: _PyEval_EvalFrameDefault + 0x5e13 (0x571203 in /usr/bin/python3)\nframe #20: _PyEval_EvalCodeWithName + 0x26a (0x569dfa in /usr/bin/python3)\nframe #21: _PyFunction_Vectorcall + 0x393 (0x5f5e83 in /usr/bin/python3)\nframe #22: _PyEval_EvalFrameDefault + 0x725 (0x56bb15 in /usr/bin/python3)\nframe #23: _PyEval_EvalCodeWithName + 0x26a (0x569dfa in /usr/bin/python3)\nframe #24: _PyFunction_Vectorcall + 0x393 (0x5f5e83 in /usr/bin/python3)\nframe #25: _PyEval_EvalFrameDefault + 0x5777 (0x570b67 in /usr/bin/python3)\nframe #26: _PyEval_EvalCodeWithName + 0x26a (0x569dfa in /usr/bin/python3)\nframe #27: _PyFunction_Vectorcall + 0x393 (0x5f5e83 in /usr/bin/python3)\nframe #28: _PyEval_EvalFrameDefault + 0x5777 (0x570b67 in /usr/bin/python3)\nframe #29: _PyEval_EvalCodeWithName + 0x26a (0x569dfa in /usr/bin/python3)\nframe #30: PyEval_EvalCode + 0x27 (0x68ce77 in /usr/bin/python3)\nframe #31: /usr/bin/python3() [0x6005e4]\nframe #32: /usr/bin/python3() [0x5c4780]\nframe #33: _PyEval_EvalFrameDefault + 0x725 (0x56bb15 in /usr/bin/python3)\nframe #34: /usr/bin/python3() [0x5006a8]\nframe #35: _PyEval_EvalFrameDefault + 0x212f (0x56d51f in /usr/bin/python3)\nframe #36: /usr/bin/python3() [0x5006a8]\nframe #37: _PyEval_EvalFrameDefault + 0x212f (0x56d51f in /usr/bin/python3)\nframe #38: /usr/bin/python3() [0x5006a8]\nframe #39: /usr/bin/python3() [0x5042c6]\nframe #40: _PyEval_EvalFrameDefault + 0x907 (0x56bcf7 in /usr/bin/python3)\nframe #41: _PyFunction_Vectorcall + 0x1b6 (0x5f5ca6 in /usr/bin/python3)\nframe #42: _PyEval_EvalFrameDefault + 0x725 (0x56bb15 in /usr/bin/python3)\nframe #43: _PyFunction_Vectorcall + 0x1b6 (0x5f5ca6 in /usr/bin/python3)\nframe #44: _PyEval_EvalFrameDefault + 0x907 (0x56bcf7 in /usr/bin/python3)\nframe #45: _PyEval_EvalCodeWithName + 0x26a (0x569dfa in /usr/bin/python3)\nframe #46: _PyFunction_Vectorcall + 0x393 (0x5f5e83 in /usr/bin/python3)\nframe #47: /usr/bin/python3() [0x50ad5c]\nframe #48: PyObject_Call + 0x62 (0x5f5072 in /usr/bin/python3)\nframe #49: _PyEval_EvalFrameDefault + 0x1f2d (0x56d31d in /usr/bin/python3)\nframe #50: _PyEval_EvalCodeWithName + 0x26a (0x569dfa in /usr/bin/python3)\nframe #51: /usr/bin/python3() [0x50add0]\nframe #52: _PyEval_EvalFrameDefault + 0x1905 (0x56ccf5 in /usr/bin/python3)\nframe #53: /usr/bin/python3() [0x5006a8]\nframe #54: _PyEval_EvalFrameDefault + 0x212f (0x56d51f in /usr/bin/python3)\nframe #55: /usr/bin/python3() [0x5006a8]\nframe #56: _PyEval_EvalFrameDefault + 0x212f (0x56d51f in /usr/bin/python3)\nframe #57: /usr/bin/python3() [0x5006a8]\nframe #58: _PyEval_EvalFrameDefault + 0x212f (0x56d51f in /usr/bin/python3)\nframe #59: /usr/bin/python3() [0x5006a8]\nframe #60: _PyEval_EvalFrameDefault + 0x212f (0x56d51f in /usr/bin/python3)\nframe #61: /usr/bin/python3() [0x5006a8]\nframe #62: _PyEval_EvalFrameDefault + 0x212f (0x56d51f in /usr/bin/python3)\nframe #63: /usr/bin/python3() [0x5006a8]\n"
     ]
    }
   ],
   "source": [
    "## Mixture\n",
    "audio_name = \"mixture.wav\"\n",
    "audio, rate = torchaudio.load(f\"/home/bltang/work/publication/data/libri2mix_test/raw/mix_clean/{AUDIO}\")\n",
    "save_audio(audio_name, audio, START, END)\n",
    "## Target\n",
    "audio_name = \"target.wav\"\n",
    "audio, rate = torchaudio.load(f\"/home/bltang/work/publication/data/libri2mix_test/raw/s1/{AUDIO}\")\n",
    "save_audio(audio_name, audio,START, END)\n",
    "## Reference Audio\n",
    "audio_name=\"reference.wav\"\n",
    "audio, rate = torchaudio.load(f\"/home/bltang/work/publication/data/libri2mix_test/raw/aux_s1/{AUDIO}\")\n",
    "save_audio(audio_name, audio, START, END)\n",
    "## SPEX_PLUS\n",
    "audio_name = \"spex_plus.wav\"\n",
    "audio, rate = torchaudio.load(f\"/home/bltang/work/publication/data/libri2mix_test/spex/audio/{AUDIO}\")\n",
    "save_audio(audio_name, audio, START, END)\n",
    "## TSELM_L\n",
    "audio_name = \"tselm_l.wav\"\n",
    "audio, rate = torchaudio.load(f\"/home/bltang/work/publication/data/libri2mix_test/tselm_l/audio/{AUDIO}\")\n",
    "save_audio(audio_name, audio, START, END)\n",
    "## TSELM-L-Hybrid\n",
    "audio_name=\"tselm_l_hybrid.wav\"\n",
    "audio, rate = torchaudio.load(f\"/home/bltang/work/publication/data/libri2mix_test/tselm_l_hybrid/audio/{AUDIO}\")\n",
    "save_audio(audio_name, audio, START, END)\n",
    "## Continuous-WavLM-L6\n",
    "audio_name=\"continuous_wavlm_l6.wav\"\n",
    "audio, rate = torchaudio.load(f\"/home/bltang/work/publication/data/libri2mix_test/continuous_wavlm_l6/output/{AUDIO}\")\n",
    "save_audio(audio_name, audio, START, END)"
   ]
  }
 ],
 "metadata": {
  "kernelspec": {
   "display_name": "Python 3",
   "language": "python",
   "name": "python3"
  },
  "language_info": {
   "codemirror_mode": {
    "name": "ipython",
    "version": 3
   },
   "file_extension": ".py",
   "mimetype": "text/x-python",
   "name": "python",
   "nbconvert_exporter": "python",
   "pygments_lexer": "ipython3",
   "version": "3.8.10"
  }
 },
 "nbformat": 4,
 "nbformat_minor": 2
}
